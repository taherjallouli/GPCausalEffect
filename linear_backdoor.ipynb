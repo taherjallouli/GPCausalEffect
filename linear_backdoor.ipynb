{
 "cells": [
  {
   "cell_type": "code",
   "execution_count": 2,
   "metadata": {},
   "outputs": [],
   "source": [
    "import numpy as np\n",
    "import pandas as pd\n",
    "\n",
    "\n",
    "# Define the sample size\n",
    "\n",
    "\n",
    "def generate_backdoor_df(sample_size = 500, seed = 123):\n",
    "    np.random.seed(seed)\n",
    "    true_ATE = 0.87\n",
    "    # The first dataset\n",
    "    W = np.random.randn(sample_size)\n",
    "    X = 0.3*W + np.random.randn(sample_size)\n",
    "    Y = 0.45*W + true_ATE *X + 0.4*np.random.randn(sample_size)\n",
    "\n",
    "    # Note that we pass all the variables to the dataframe\n",
    "    data_1 = pd.DataFrame(np.vstack([X, W, Y]).T, columns=['X', 'W', 'Y'])\n",
    "    return data_1, true_ATE"
   ]
  },
  {
   "cell_type": "markdown",
   "metadata": {},
   "source": [
    "# Code for plots"
   ]
  },
  {
   "cell_type": "code",
   "execution_count": null,
   "metadata": {},
   "outputs": [],
   "source": [
    "df = generate_backdoor_df(sample_size = 500, seed = 123)\n",
    "X= df.X\n",
    "Y= df.Y\n",
    "Z= df.Z\n",
    "# Backdoor Criterion \n",
    "# Pr (Y = y|do(X = x)) = Σ_s Pr(S = s) Pr(Y = y|X = x, S = s) \n",
    "import numpy as np\n",
    "from sklearn.linear_model import LinearRegression\n",
    "import matplotlib.pyplot as plt\n",
    "x = np.linspace(-4, 4, 5000)\n",
    "\n",
    "model = LinearRegression()\n",
    "\n",
    "causal_effect_x_y = 0.87\n",
    "\n",
    "model.fit(X.reshape((-1, 1)), Y.reshape((-1, 1)))\n",
    "plt.scatter(X, Y, s=3, label='Observations' )\n",
    "plt.plot(x, causal_effect_x_y * x,  '-g',  label=f\"E[Y|do(x)] = {causal_effect_x_y: .2f} (true)\")\n",
    "print( model.coef_)\n",
    "plt.plot(x, model.coef_[0,0]* x,  '-r', label=f\"E[Y|X] = {model.coef_[0,0]:.2f} (biased)\")\n",
    "plt.legend(loc=\"upper left\")\n"
   ]
  },
  {
   "cell_type": "code",
   "execution_count": null,
   "metadata": {},
   "outputs": [
    {
     "name": "stderr",
     "output_type": "stream",
     "text": [
      "Auto-assigning NUTS sampler...\n",
      "Initializing NUTS using jitter+adapt_diag...\n",
      "Sequential sampling (1 chains in 1 job)\n",
      "NUTS: [Y_sigma, Intercept, X, W]\n"
     ]
    },
    {
     "data": {
      "text/html": [
       "\n",
       "<style>\n",
       "    /* Turns off some styling */\n",
       "    progress {\n",
       "        /* gets rid of default border in Firefox and Opera. */\n",
       "        border: none;\n",
       "        /* Needs to be in here for Safari polyfill so background images work as expected. */\n",
       "        background-size: auto;\n",
       "    }\n",
       "    progress:not([value]), progress:not([value])::-webkit-progress-bar {\n",
       "        background: repeating-linear-gradient(45deg, #7e7e7e, #7e7e7e 10px, #5c5c5c 10px, #5c5c5c 20px);\n",
       "    }\n",
       "    .progress-bar-interrupted, .progress-bar-interrupted::-webkit-progress-bar {\n",
       "        background: #F44336;\n",
       "    }\n",
       "</style>\n"
      ],
      "text/plain": [
       "<IPython.core.display.HTML object>"
      ]
     },
     "metadata": {},
     "output_type": "display_data"
    },
    {
     "data": {
      "text/html": [
       "\n",
       "    <div>\n",
       "      <progress value='5500' class='' max='5500' style='width:300px; height:20px; vertical-align: middle;'></progress>\n",
       "      100.00% [5500/5500 00:08&lt;00:00 Sampling chain 0, 0 divergences]\n",
       "    </div>\n",
       "    "
      ],
      "text/plain": [
       "<IPython.core.display.HTML object>"
      ]
     },
     "metadata": {},
     "output_type": "display_data"
    },
    {
     "name": "stderr",
     "output_type": "stream",
     "text": [
      "Sampling 1 chain for 500 tune and 5_000 draw iterations (500 + 5_000 draws total) took 8 seconds.\n",
      "Only one chain was sampled, this makes it impossible to run some convergence checks\n"
     ]
    }
   ],
   "source": [
    "import bambi as bmb\n",
    "import matplotlib.pyplot as plt\n",
    "import numpy as np\n",
    "import pandas as pd\n",
    "import pymc as pm\n",
    "import seaborn as sns\n",
    "\n",
    "\n",
    "iterations=5000\n",
    "\"\"\"\n",
    "Calculates the Markov Chain Monte Carlo trace of\n",
    "a Generalised Linear Model Bayesian linear regression \n",
    "model on supplied data.\n",
    "Parameters\n",
    "----------\n",
    "df: `pd.DataFrame`\n",
    "    DataFrame containing the data\n",
    "iterations: `int`\n",
    "    Number of iterations to carry out MCMC for\n",
    "\"\"\"\n",
    "# Create the glm using the Bambi model syntax\n",
    "model = bmb.Model(\"Y ~ X + W\", df)\n",
    "# Fit the model using a NUTS (No-U-Turn Sampler) \n",
    "trace = model.fit(\n",
    "    draws= iterations,\n",
    "    tune=500,\n",
    "    discard_tuned_samples=True,\n",
    "    chains=1, \n",
    "    progressbar=True)\n",
    "\n"
   ]
  },
  {
   "cell_type": "code",
   "execution_count": null,
   "metadata": {},
   "outputs": [
    {
     "data": {
      "text/plain": [
       "array([[<Axes: title={'center': 'X'}>, <Axes: title={'center': 'X'}>]],\n",
       "      dtype=object)"
      ]
     },
     "metadata": {},
     "output_type": "display_data"
    },
    {
     "data": {
      "image/png": "[encoded data removed]",
      "text/plain": [
       "<Figure size 1200x200 with 2 Axes>"
      ]
     },
     "metadata": {},
     "output_type": "display_data"
    }
   ],
   "source": [
    "pm.plot_trace(trace.posterior[\"X\"])"
   ]
  },
  {
   "cell_type": "markdown",
   "metadata": {},
   "source": [
    "# Checking for convergence for different N"
   ]
  },
  {
   "cell_type": "code",
   "execution_count": 3,
   "metadata": {},
   "outputs": [],
   "source": [
    "def generate_test_df(N = 2000):    \n",
    "    X_do_x = np.linspace(-2.5, 2.5, N)\n",
    "    EV_y_do_x  = 0.87 * X_do_x\n",
    "    return X_do_x, EV_y_do_x  "
   ]
  },
  {
   "cell_type": "code",
   "execution_count": null,
   "metadata": {},
   "outputs": [],
   "source": [
    "def linear_gp_bd_cont_t_ate(df):\n",
    "    import bambi as bmb\n",
    "    import matplotlib.pyplot as plt\n",
    "    import numpy as np\n",
    "    import pandas as pd\n",
    "    import pymc as pm\n",
    "    import seaborn as sns\n",
    "\n",
    "    iterations= 2500\n",
    "\n",
    "    \"\"\"\n",
    "    Calculates the Markov Chain Monte Carlo trace of\n",
    "    a Generalised Linear Model Bayesian linear regression \n",
    "    model on supplied data.\n",
    "    Parameters\n",
    "    ----------\n",
    "    df: `pd.DataFrame`\n",
    "        DataFrame containing the data\n",
    "    iterations: `int`\n",
    "        Number of iterations to carry out MCMC for\n",
    "    \"\"\"\n",
    "    # Create the glm using the Bambi model syntax\n",
    "    model = bmb.Model(\"Y ~ X + W\", df)\n",
    "\n",
    "    trace = model.fit(\n",
    "        draws= iterations,\n",
    "        tune=400,\n",
    "        discard_tuned_samples=True,\n",
    "        chains=1,\n",
    "        progressbar= False)\n",
    "    ate = trace.posterior[\"X\"].to_numpy().mean()\n",
    "    #beta_W =  trace.posterior[\"W\"].to_numpy().mean()\n",
    "    #intercept = trace.posterior.Intercept.to_numpy().mean()\n",
    "    return ate "
   ]
  },
  {
   "cell_type": "code",
   "execution_count": null,
   "metadata": {},
   "outputs": [],
   "source": [
    "import random\n",
    "#random_seeds = random.sample(range(1, 10000), 200)\n",
    "random_seeds = [9737, 4855, 2226, 5915, 7910, 9309, 8115, 7492, 2493, 4350, 5, 1170, 6791, 5260, 9522, 46, 4384, 6104, 2214, 9654, 2311, 1484, 923, 433, 5815, 4374, 7743, 121, 5610, 6243, 4191, 1608, 1288, 2628, 1079, 3022, 9831, 7185, 3979, 4495, 4231, 7596, 6292, 5460, 7609, 7036, 2163, 3578, 7048, 7082, 9724, 7236, 8688, 6425, 2126, 289, 4618, 973, 6260, 6591, 6387, 1472, 6728, 237, 8464, 3930, 2561, 4123, 1007, 7543, 3451, 6176, 4836, 3637, 2425, 7111, 5567, 3191, 6353, 4521, 6140, 9860, 7053, 72, 5053, 3991, 2629, 6217, 3510, 4163, 5366, 2876, 1923, 4170, 7730, 8429, 6262, 3953, 5697, 58, 8885, 7928, 291, 3625, 7530, 8693, 7217, 7376, 9543, 4018, 7791, 7333, 9983, 6913, 8605, 38, 1779, 7950, 9857, 4767, 4267, 4789, 3610, 5346, 2057, 7929, 2223, 5286, 5499, 5807, 3248, 3437, 731, 199, 138, 5943, 6664, 1711, 4391, 2891, 5144, 3611, 686, 2328, 3719, 9238, 652, 4052, 8192, 3346, 2723, 6854, 6719, 6684, 834, 4069, 3103, 5624, 2639, 7396, 7119, 7129, 189, 5648, 5290, 2282, 3432, 8405, 4589, 341, 2821, 7739, 4172, 2983, 2727, 5151, 6252, 1790, 4724, 1016, 3935, 4898, 4510, 8995, 66, 4660, 3368, 9559, 2538, 6884, 9086, 5356, 6048, 3285, 3098, 9802, 9977, 4878, 5406, 4343]\n",
    "\n",
    "gp_ate_list_200 = []\n",
    "\n",
    "i = 0\n",
    "for seed in random_seeds:\n",
    "    \n",
    "    i = i + 1\n",
    "    print(i)\n",
    "    gp_ate_list = []\n",
    "    from sklearn.metrics import mean_squared_error\n",
    "\n",
    "    for N in [100, 500, 1000, 2000]:\n",
    "        print(f'sample: {i},    sample size N:    ', N )\n",
    "        df, true_ate =  generate_backdoor_df(sample_size = N, seed= seed)\n",
    "        df.to_csv(f\"datasets_bachelorthesis/backdoor_linear/ate/{N}/backdoor_linear_\"+ str(i)+ '.csv', index= False)\n",
    "        gp_ate = linear_gp_bd_cont_t_ate(df)\n",
    "        gp_ate_list.append(np.abs( gp_ate -true_ate))\n",
    "\n",
    "    \n",
    "\n",
    "\n",
    "    gp_ate_list_200.append(gp_ate_list)\n",
    "\n",
    "\n",
    "gp_ate_list_200_np = np.array(gp_ate_list_200)\n",
    "gp_ate_results = np.mean(gp_ate_list_200_np, axis=0)\n"
   ]
  },
  {
   "cell_type": "code",
   "execution_count": null,
   "metadata": {},
   "outputs": [],
   "source": [
    "def get_mean_err_sem(gp_ate_list,true_ATE):\n",
    "    import scipy\n",
    "    sem_gp_ate = scipy.stats.sem(np.array(gp_ate_list) - np.full((len(gp_ate_list),),true_ATE))\n",
    "\n",
    "    mean_error_gp_rbf = np.mean(np.array(gp_ate_list))\n",
    "    return str(mean_error_gp_rbf) + \"+-\" +str( sem_gp_ate)"
   ]
  },
  {
   "cell_type": "code",
   "execution_count": null,
   "metadata": {},
   "outputs": [
    {
     "name": "stdout",
     "output_type": "stream",
     "text": [
      "['0.03231156120776224+-0.001857044182372064'\n",
      " '0.014425794466418927+-0.00078091059011724'\n",
      " '0.010105574777692184+-0.00053567505001305'\n",
      " '0.0070762054744728875+-0.0003804680713458']\n"
     ]
    }
   ],
   "source": [
    "gp_results_str = np.apply_along_axis(get_mean_err_sem, 0, gp_ate_list_200_np, true_ATE= true_ate)\n",
    "print(gp_results_str)"
   ]
  }
 ],
 "metadata": {
  "kernelspec": {
   "display_name": "base",
   "language": "python",
   "name": "python3"
  },
  "language_info": {
   "codemirror_mode": {
    "name": "ipython",
    "version": 3
   },
   "file_extension": ".py",
   "mimetype": "text/x-python",
   "name": "python",
   "nbconvert_exporter": "python",
   "pygments_lexer": "ipython3",
   "version": "3.10.12"
  },
  "orig_nbformat": 4
 },
 "nbformat": 4,
 "nbformat_minor": 2
}
